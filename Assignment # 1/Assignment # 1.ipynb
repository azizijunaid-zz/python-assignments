{
 "cells": [
  {
   "cell_type": "code",
   "execution_count": 1,
   "metadata": {},
   "outputs": [
    {
     "name": "stdout",
     "output_type": "stream",
     "text": [
      "Twinkle, twinkle, little star, \n",
      " \t How I wonder what you are! \n",
      " \t \t Up above the world so high, \n",
      " \t Like a diamond in the sky. \n",
      "Twinkle, twinkle, little star, \n",
      " \t How I wonder what you are\n"
     ]
    }
   ],
   "source": [
    "poemString = \"Twinkle, twinkle, little star, \\n \\t How I wonder what you are! \\n \\t \\t Up above the world so high, \\n \\t Like a diamond in the sky. \\nTwinkle, twinkle, little star, \\n \\t How I wonder what you are\"\n",
    "print(poemString)"
   ]
  },
  {
   "cell_type": "code",
   "execution_count": 2,
   "metadata": {},
   "outputs": [
    {
     "name": "stdout",
     "output_type": "stream",
     "text": [
      "3.7.4\n"
     ]
    }
   ],
   "source": [
    "from platform import python_version\n",
    "print(python_version())"
   ]
  },
  {
   "cell_type": "code",
   "execution_count": 4,
   "metadata": {},
   "outputs": [
    {
     "name": "stdout",
     "output_type": "stream",
     "text": [
      "2019-11-03 17:49:58.268537\n"
     ]
    }
   ],
   "source": [
    "import datetime\n",
    "x = datetime.datetime.now()\n",
    "print(x)"
   ]
  },
  {
   "cell_type": "code",
   "execution_count": 2,
   "metadata": {},
   "outputs": [
    {
     "name": "stdout",
     "output_type": "stream",
     "text": [
      "Enter the radius of the circle :2\n",
      "Area of the circle is : 12.56\n"
     ]
    }
   ],
   "source": [
    "#method 1.\n",
    "PI = 3.14\n",
    "r = float(input('Enter the radius of the circle :'))\n",
    "#formula to calculate circle area\n",
    "area = PI * r * r\n",
    "print(\"Area of the circle is : %.2f\" %area)\n",
    "\n",
    "\n",
    "#method 2\n",
    "# import math\n",
    "# r = float(input('Enter the radius of the circle :'))\n",
    "# area = math.pi * r * r\n",
    "# print(\"Area of the circle is : %.2f\" %area)"
   ]
  },
  {
   "cell_type": "code",
   "execution_count": 8,
   "metadata": {},
   "outputs": [
    {
     "name": "stdout",
     "output_type": "stream",
     "text": [
      "Enter first name: junaid\n",
      "Enter last name: aziz\n",
      "aziz junaid\n"
     ]
    }
   ],
   "source": [
    "firstName = input(\"Enter First Name: \");\n",
    "lastName = input(\"Enter Last Name: \");\n",
    "reversedArray = [firstName, lastName];\n",
    "reversedArray.reverse();\n",
    "resultString = \" \".join(reversedArray);\n",
    "print(resultString);\n"
   ]
  },
  {
   "cell_type": "code",
   "execution_count": 10,
   "metadata": {},
   "outputs": [
    {
     "name": "stdout",
     "output_type": "stream",
     "text": [
      "Enter First Number: 5\n",
      "Enter Last Number: 2\n",
      "7\n"
     ]
    }
   ],
   "source": [
    "firstNumber = int(input(\"Enter First Number: \"));\n",
    "lastNumber = int(input(\"Enter Last Number: \"));\n",
    "print(firstNumber + lastNumber)\n"
   ]
  },
  {
   "cell_type": "code",
   "execution_count": null,
   "metadata": {},
   "outputs": [],
   "source": []
  }
 ],
 "metadata": {
  "kernelspec": {
   "display_name": "Python 3",
   "language": "python",
   "name": "python3"
  },
  "language_info": {
   "codemirror_mode": {
    "name": "ipython",
    "version": 3
   },
   "file_extension": ".py",
   "mimetype": "text/x-python",
   "name": "python",
   "nbconvert_exporter": "python",
   "pygments_lexer": "ipython3",
   "version": "3.7.4"
  }
 },
 "nbformat": 4,
 "nbformat_minor": 2
}
