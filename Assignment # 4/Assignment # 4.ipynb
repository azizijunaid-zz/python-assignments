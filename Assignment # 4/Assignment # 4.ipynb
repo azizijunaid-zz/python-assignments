{
 "cells": [
  {
   "cell_type": "code",
   "execution_count": 17,
   "metadata": {},
   "outputs": [
    {
     "name": "stdout",
     "output_type": "stream",
     "text": [
      "firstName => Junaid\n",
      "lastName => Aziz\n",
      "age => 28\n",
      "city => Karachi\n"
     ]
    }
   ],
   "source": [
    "person_info = {\n",
    "    'firstName': 'Junaid',\n",
    "    'lastName': 'Aziz',\n",
    "    'age': '28',\n",
    "    'city': 'Karachi'\n",
    "}\n",
    "\n",
    "for person in person_info:\n",
    "  print(person +' => '+ person_info[person] )\n"
   ]
  },
  {
   "cell_type": "code",
   "execution_count": 11,
   "metadata": {},
   "outputs": [],
   "source": [
    "person_info['qualification'] = \"BS\""
   ]
  },
  {
   "cell_type": "code",
   "execution_count": null,
   "metadata": {},
   "outputs": [],
   "source": [
    "person_info['qualification'] = \"MS\""
   ]
  },
  {
   "cell_type": "code",
   "execution_count": 15,
   "metadata": {},
   "outputs": [],
   "source": [
    "del person_info['qualification']"
   ]
  },
  {
   "cell_type": "code",
   "execution_count": 16,
   "metadata": {},
   "outputs": [
    {
     "name": "stdout",
     "output_type": "stream",
     "text": [
      "{'firstName': 'Junaid', 'lastName': 'Aziz', 'age': '28', 'city': 'Karachi'}\n"
     ]
    }
   ],
   "source": [
    "print(person_info)"
   ]
  },
  {
   "cell_type": "code",
   "execution_count": 76,
   "metadata": {},
   "outputs": [
    {
     "name": "stdout",
     "output_type": "stream",
     "text": [
      "\n",
      "Karachi is in Pakistan.\n",
      "  It has a population of about 14,910,352.\n",
      "\n",
      "Lahore is in Pakistan.\n",
      "  It has a population of about 11,126,285.\n",
      "\n",
      "Islamabad is in Pakistan.\n",
      "  It has a population of about 1,014,825.\n"
     ]
    }
   ],
   "source": [
    "cities = {\n",
    "    \"karachi\": {\n",
    "        \"population\": \"14,910,352\",\n",
    "        \"country\": \"Pakistan\",\n",
    "        \"fact\": \"largest city of pakistan\"\n",
    "    },\n",
    "    \"lahore\": {\n",
    "        \"population\": \"11,126,285\",\n",
    "        \"country\": \"Pakistan\",\n",
    "        \"fact\": \"second largest city of pakistan\"\n",
    "    },\n",
    "    \"islamabad\": {\n",
    "        \"population\": \"1,014,825\",\n",
    "        \"country\": \"Pakistan\",\n",
    "        \"fact\": \"third largest city of pakistan\"\n",
    "    }\n",
    "    \n",
    "}  \n",
    "\n",
    "for city, city_info in cities.items():\n",
    "    country = city_info['country'].title()\n",
    "    population = city_info['population']\n",
    "\n",
    "    print(\"\\n\" + city.title() + \" is in \" + country + \".\")\n",
    "    print(\"  It has a population of about \" + str(population) + \".\")\n",
    "  \n",
    "    \n",
    "    "
   ]
  },
  {
   "cell_type": "code",
   "execution_count": null,
   "metadata": {},
   "outputs": [],
   "source": [
    "prompt = \"How old are you?\"\n",
    "prompt += \"\\nEnter 'quit' when you are finished. \"\n",
    "\n",
    "while True:\n",
    "    age = input(prompt)\n",
    "    if age == 'quit':\n",
    "        break\n",
    "    age = int(age)\n",
    "\n",
    "    if age < 3:\n",
    "        print(\"  You get in free!\")\n",
    "    elif age < 13:\n",
    "        print(\"  Your ticket is $10.\")\n",
    "    else:\n",
    "        print(\"  Your ticket is $15.\")"
   ]
  },
  {
   "cell_type": "code",
   "execution_count": null,
   "metadata": {},
   "outputs": [],
   "source": [
    "def favorite_book(title):\n",
    "  print(\"One of my favorite books is \" + title);\n",
    "\n",
    "favorite_book(\"quran\");"
   ]
  },
  {
   "cell_type": "code",
   "execution_count": null,
   "metadata": {},
   "outputs": [],
   "source": []
  },
  {
   "cell_type": "code",
   "execution_count": null,
   "metadata": {},
   "outputs": [],
   "source": [
    "import random\n",
    "\n",
    " guessesTaken = 0\n",
    "\n",
    " print('Hello! What is your name?')\n",
    " myName = input()\n",
    "\n",
    " number = random.randint(1, 30)\n",
    " print('Well, ' + myName + ', I am thinking of a number between 1 and 30.')\n",
    "\n",
    " while guessesTaken < 3:\n",
    "     print('Take a guess.')\n",
    "     guess = input()\n",
    "     guess = int(guess)\n",
    "\n",
    "     guessesTaken = guessesTaken + 1\n",
    "\n",
    "     if guess < number:\n",
    "         print('Your guess is too low.') \n",
    "\n",
    "     if guess > number:\n",
    "         print('Your guess is too high.')\n",
    "\n",
    "     if guess == number:\n",
    "         break\n",
    "\n",
    " if guess == number:\n",
    "     guessesTaken = str(guessesTaken)\n",
    "     print('Greate Job, ' + myName + '! You guessed my number in ' + guessesTaken + ' guesses!')\n",
    "\n",
    " if guess != number:\n",
    "     number = str(number)\n",
    "     print('Nope. The number I was thinking of was ' + number)"
   ]
  },
  {
   "cell_type": "code",
   "execution_count": null,
   "metadata": {},
   "outputs": [],
   "source": []
  }
 ],
 "metadata": {
  "kernelspec": {
   "display_name": "Python 3",
   "language": "python",
   "name": "python3"
  },
  "language_info": {
   "codemirror_mode": {
    "name": "ipython",
    "version": 3
   },
   "file_extension": ".py",
   "mimetype": "text/x-python",
   "name": "python",
   "nbconvert_exporter": "python",
   "pygments_lexer": "ipython3",
   "version": "3.7.4"
  }
 },
 "nbformat": 4,
 "nbformat_minor": 2
}
