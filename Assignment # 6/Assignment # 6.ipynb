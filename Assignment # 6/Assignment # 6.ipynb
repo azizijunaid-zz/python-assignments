{
 "cells": [
  {
   "cell_type": "code",
   "execution_count": 10,
   "metadata": {},
   "outputs": [
    {
     "name": "stdout",
     "output_type": "stream",
     "text": [
      "color yellow\n",
      "modal 2019\n"
     ]
    }
   ],
   "source": [
    "class Car:\n",
    "    def __init__(self, modal, color, name):\n",
    "        self.modal = modal;\n",
    "        self.color = color;\n",
    "        self.name = name;\n",
    "        \n",
    "    def getColor(self):\n",
    "            print('color', self.color);\n",
    "            \n",
    "    def getModal(self):\n",
    "            print('modal', self.modal);\n",
    "    \n",
    "c1 = Car(2019, 'red', 'corolla')\n",
    "\n",
    "# print(c1.modal)\n",
    "# print(c1.color)\n",
    "# print(c1.name)\n",
    "\n",
    "c2 = Car(2019, 'white', 'mehran')\n",
    "c3 = Car(2019, 'yellow', 'vitz')\n",
    "c3.getColor();\n",
    "c3.getModal()\n"
   ]
  },
  {
   "cell_type": "code",
   "execution_count": null,
   "metadata": {},
   "outputs": [],
   "source": []
  }
 ],
 "metadata": {
  "kernelspec": {
   "display_name": "Python 3",
   "language": "python",
   "name": "python3"
  },
  "language_info": {
   "codemirror_mode": {
    "name": "ipython",
    "version": 3
   },
   "file_extension": ".py",
   "mimetype": "text/x-python",
   "name": "python",
   "nbconvert_exporter": "python",
   "pygments_lexer": "ipython3",
   "version": "3.7.4"
  }
 },
 "nbformat": 4,
 "nbformat_minor": 2
}
