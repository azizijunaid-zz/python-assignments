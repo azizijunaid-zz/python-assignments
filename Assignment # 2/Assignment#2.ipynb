{
 "cells": [
  {
   "cell_type": "code",
   "execution_count": 21,
   "metadata": {},
   "outputs": [
    {
     "name": "stdout",
     "output_type": "stream",
     "text": [
      "Enter the marks of first subject! 63\n",
      "Enter the marks of second subject! 78\n",
      "Enter the marks of third subject! 96\n",
      "Enter the marks of fourth subject! 45\n",
      "Enter the marks of fifth subject! 63\n",
      "total_marks : 345\n",
      "avg_marks : 69.0\n",
      "Grade B\n"
     ]
    }
   ],
   "source": [
    "sub1 = int(input(\"Enter the marks of first subject! \"));\n",
    "sub2 = int(input(\"Enter the marks of second subject! \"));\n",
    "sub3 = int(input(\"Enter the marks of third subject! \"));\n",
    "sub4 = int(input(\"Enter the marks of fourth subject! \"));\n",
    "sub5 = int(input(\"Enter the marks of fifth subject! \"));\n",
    "\n",
    "total_marks = (sub1+sub2+sub3+sub4+sub5);\n",
    "\n",
    "avg_marks = float((sub1+sub2+sub3+sub4+sub5)/5);\n",
    "\n",
    "print('total_marks :', total_marks)\n",
    "\n",
    "print('avg_marks :', avg_marks)\n",
    "\n",
    "if(avg_marks >= 80):\n",
    "    print('Grade A+')\n",
    "elif (avg_marks >= 70 and avg_marks < 80):\n",
    "    print('Grade A')\n",
    "elif (avg_marks >= 60 and avg_marks < 70):\n",
    "    print('Grade B')\n",
    "elif (avg_marks >= 50 and avg_marks < 60):\n",
    "    print('Grade C')\n",
    "elif (avg_marks >= 40 and avg_marks < 50):\n",
    "    print('Grade D')\n",
    "else:\n",
    "    print('Fail')\n"
   ]
  },
  {
   "cell_type": "code",
   "execution_count": 30,
   "metadata": {},
   "outputs": [
    {
     "name": "stdout",
     "output_type": "stream",
     "text": [
      "Enter any number6\n",
      "6\n",
      "Even\n"
     ]
    }
   ],
   "source": [
    "inputNumber = int(input(\"Enter any number\"))\n",
    "print(inputNumber)\n",
    "if((inputNumber % 2) == 0):\n",
    "    print(\"Even\")\n",
    "else:\n",
    "    print(\"Odd\")"
   ]
  },
  {
   "cell_type": "code",
   "execution_count": 31,
   "metadata": {},
   "outputs": [
    {
     "name": "stdout",
     "output_type": "stream",
     "text": [
      "10\n"
     ]
    }
   ],
   "source": [
    "list = [1,2,3,4,5,6,7,8,9,10];\n",
    "print(len(list))"
   ]
  },
  {
   "cell_type": "code",
   "execution_count": 53,
   "metadata": {},
   "outputs": [
    {
     "name": "stdout",
     "output_type": "stream",
     "text": [
      "55\n"
     ]
    }
   ],
   "source": [
    "list = [1,2,3,4,5,6,7,8,9,10];\n",
    "total= 0;\n",
    "for x in list:\n",
    "    total += x\n",
    "    \n",
    "print(total)"
   ]
  },
  {
   "cell_type": "code",
   "execution_count": 55,
   "metadata": {},
   "outputs": [
    {
     "name": "stdout",
     "output_type": "stream",
     "text": [
      "100\n"
     ]
    }
   ],
   "source": [
    "list = [1,100,3,4,90,69,77,8,79,10];\n",
    "\n",
    "print(max(list))"
   ]
  },
  {
   "cell_type": "code",
   "execution_count": 56,
   "metadata": {},
   "outputs": [
    {
     "name": "stdout",
     "output_type": "stream",
     "text": [
      "1\n",
      "3\n",
      "4\n"
     ]
    }
   ],
   "source": [
    "list = [1,100,3,4,90,69,77,8,79,10];\n",
    "for x in list:\n",
    "    if(x < 5):\n",
    "        print(x)"
   ]
  }
 ],
 "metadata": {
  "kernelspec": {
   "display_name": "Python 3",
   "language": "python",
   "name": "python3"
  },
  "language_info": {
   "codemirror_mode": {
    "name": "ipython",
    "version": 3
   },
   "file_extension": ".py",
   "mimetype": "text/x-python",
   "name": "python",
   "nbconvert_exporter": "python",
   "pygments_lexer": "ipython3",
   "version": "3.7.4"
  }
 },
 "nbformat": 4,
 "nbformat_minor": 2
}
