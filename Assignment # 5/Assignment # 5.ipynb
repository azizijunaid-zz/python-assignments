

def factorial(n):
    if(n >= 1):
        return n * factorial(n-1);
    else:
        return 1;

print(factorial(int(input("Enter factorial you want:::     "))));



string=input("Enter string:")
count1=0
count2=0
for char in string:
      if(char.islower()):
            count1=count1+1
      elif(char.isupper()):
            count2=count2+1
print("The number of lowercase characters is:" + count1)

print("The number of uppercase characters is:" + count2)



def evenNumber(list):
    print(list)
    for i in list:
        if(i % 2 == 0):
            print(i)
            
evenNumber([1,2,4,5,6,7,8])



def isPalindrome(str): 
 
    rev = ''.join(reversed(str)) 
    if (str == rev): 
        return True
    return False
    
    
print(isPalindrome('junaid'))



def isPrime(number):
    if(number > 1):
        for i in range(2, number):
            if((number % i) == 0):
               print(number,"is not a prime number")  
               print(i,"times",number//i,"is",number)  
               break
        else:  
            print(number,"is a prime number")
    else:
        print(number, "is not a prime number")
print(isPrime(11))


def printItemsList(*items):
    
    for item in items:
        print(item)
        
        
printItemsList("dahi", "chawal", "tommator")
		


